{
 "cells": [
  {
   "cell_type": "markdown",
   "metadata": {},
   "source": [
    "## Apple Stock Prediction"
   ]
  },
  {
   "cell_type": "markdown",
   "metadata": {},
   "source": [
    "### 0) Import Modules "
   ]
  },
  {
   "cell_type": "code",
   "execution_count": 21,
   "metadata": {
    "pycharm": {
     "is_executing": true
    }
   },
   "outputs": [],
   "source": [
    "import pandas as pd\n",
    "import numpy as np\n",
    "import matplotlib.pyplot as plt\n",
    "import datetime as datetime\n",
    "import math\n",
    "\n",
    "import keras\n",
    "from tensorflow.keras import layers\n",
    "from keras.utils import np_utils"
   ]
  },
  {
   "cell_type": "markdown",
   "metadata": {},
   "source": [
    "### 1) Preprocess Data"
   ]
  },
  {
   "cell_type": "markdown",
   "metadata": {},
   "source": [
    "By taking just teh \"AAPL\" column we will ignore any signal in date field for now:"
   ]
  },
  {
   "cell_type": "code",
   "execution_count": 22,
   "metadata": {},
   "outputs": [],
   "source": [
    "raw_DF = pd.read_csv(\"../data/AAPL_OC_return.csv\")\n",
    "daily_changes = raw_DF[\"AAPL\"].values "
   ]
  },
  {
   "cell_type": "markdown",
   "metadata": {},
   "source": [
    "We plot a histogram of the percentage price changes to get a feel for the data:"
   ]
  },
  {
   "cell_type": "code",
   "execution_count": 23,
   "metadata": {},
   "outputs": [
    {
     "data": {
      "image/png": "[encoded data removed]",
      "text/plain": [
       "<Figure size 432x288 with 1 Axes>"
      ]
     },
     "metadata": {
      "needs_background": "light"
     },
     "output_type": "display_data"
    }
   ],
   "source": [
    "plt.hist(daily_changes, bins=50)\n",
    "plt.show()"
   ]
  },
  {
   "cell_type": "markdown",
   "metadata": {},
   "source": [
    "Using a continuous scalar as input to our model may give too many degrees of freedom, so we band the percentage changes:"
   ]
  },
  {
   "cell_type": "code",
   "execution_count": 24,
   "metadata": {},
   "outputs": [
    {
     "data": {
      "text/plain": [
       "array([-2.48075891, -1.05222614, -0.47773935,  0.03416318,  0.60865234,\n",
       "        1.18524268,  2.57450428])"
      ]
     },
     "execution_count": 24,
     "metadata": {},
     "output_type": "execute_result"
    }
   ],
   "source": [
    "np.percentile(daily_changes, [1, 10, 25, 50, 75, 90, 99])"
   ]
  },
  {
   "cell_type": "code",
   "execution_count": 25,
   "metadata": {},
   "outputs": [],
   "source": [
    "boundaries = [-2.5, -1, -0.5, 0, 0.5, 1, 2.5]"
   ]
  },
  {
   "cell_type": "code",
   "execution_count": 26,
   "metadata": {},
   "outputs": [],
   "source": [
    "daily_changes_banded = np.digitize(daily_changes, boundaries)"
   ]
  },
  {
   "cell_type": "markdown",
   "metadata": {},
   "source": [
    "We will also only be interested if we should short or long AAPL stock, so we create a binary target:"
   ]
  },
  {
   "cell_type": "code",
   "execution_count": 27,
   "metadata": {},
   "outputs": [],
   "source": [
    "daily_changes_binary = np.digitize(daily_changes, [0])"
   ]
  },
  {
   "cell_type": "markdown",
   "metadata": {},
   "source": [
    "Check percentage changes were banded correctly for feature and targe:"
   ]
  },
  {
   "cell_type": "code",
   "execution_count": 28,
   "metadata": {},
   "outputs": [
    {
     "data": {
      "text/plain": [
       "[('-1.263', 1, 0),\n",
       " ('0.495', 4, 1),\n",
       " ('-0.207', 3, 0),\n",
       " ('-0.737', 2, 0),\n",
       " ('-0.856', 2, 0),\n",
       " ('1.377', 6, 1),\n",
       " ('0.422', 4, 1),\n",
       " ('0.413', 4, 1),\n",
       " ('0.320', 4, 1),\n",
       " ('0.876', 5, 1)]"
      ]
     },
     "execution_count": 28,
     "metadata": {},
     "output_type": "execute_result"
    }
   ],
   "source": [
    "[('{:.3f}'.format(percent), band, booly) for i, (percent, band, booly) in enumerate(zip(daily_changes, daily_changes_banded, daily_changes_binary)) if i < 10]"
   ]
  },
  {
   "cell_type": "code",
   "execution_count": 29,
   "metadata": {},
   "outputs": [],
   "source": [
    "def feature_target(N, feature_time_series, target_time_series):\n",
    "    \"\"\"\n",
    "    Create feature-target pairs from a time series for model training.\n",
    "    \n",
    "    Parameters\n",
    "    ----------\n",
    "    N: int\n",
    "       The number of days that will be used predict tomorrows stock movement\n",
    "    feature_time_series: numpy.ndarray\n",
    "       The time series of banded daily stock price differences.\n",
    "    target_time_series: numpy.ndarray\n",
    "       The time series of daily stock changes as binary. 0 for decrease, 1 for increase.\n",
    "\n",
    "    Returns\n",
    "    -------\n",
    "    X: numpy.ndarray\n",
    "        A series of sequences, where each sequence contains the previous N days of banded\n",
    "        daily stock price differences.\n",
    "    y: numpy.ndarray\n",
    "        A series of integers, where each integer corresponds to the day proceeding the N\n",
    "        days at the corresponding index of X. 0 for decrease, 1 for increase.\n",
    "    \"\"\"\n",
    "                   \n",
    "    if len(feature_time_series) != len(target_time_series):\n",
    "        print(\"Feature and target time series are not equal.\")\n",
    "                   \n",
    "    L = len(feature_time_series)\n",
    "    \n",
    "    X = np.empty([L-N, N], dtype='int')\n",
    "    y = np.empty([L-N], dtype='int')\n",
    "\n",
    "    for i, j in enumerate(range(N, L)):\n",
    "        X[i] = feature_time_series[j-N:j]\n",
    "        y[i] = target_time_series[j]\n",
    "    \n",
    "    X = np_utils.to_categorical(X)\n",
    "    \n",
    "    return X, y"
   ]
  },
  {
   "cell_type": "code",
   "execution_count": 30,
   "metadata": {},
   "outputs": [],
   "source": [
    "def model_returns(y_preds, y_trues, daily_percentage_changes):\n",
    "    \"\"\"\n",
    "    Calculates total return on a nominal value of 10,000, for each day of predictions.\n",
    "    Assuming that it possible to go perfectly long or short.\n",
    "    \n",
    "    Parameters\n",
    "    ----------\n",
    "    y_preds: numpy.ndarray of int\n",
    "        Predicted daily movement in stock price, up (1) or down (0).\n",
    "    y_trues: numpy.ndarray of int\n",
    "        Actual daily movement in stock price, up (1) or down (0).\n",
    "    daily_percentage_changes: numpy.ndarray of float\n",
    "        Actual daily percentage change in stock price.\n",
    "        \n",
    "    Returns\n",
    "    -------\n",
    "    trading_total: numpy.ndarray of float\n",
    "        Total nominal return based on predictions\n",
    "    \"\"\"\n",
    "    \n",
    "    trading_total = []\n",
    "    opening_balance = 10000\n",
    "    days = zip(y_preds, y_trues, daily_percentage_changes)\n",
    "    \n",
    "    for y_pred, y_true, percent_change in days:\n",
    "        \n",
    "        if percent_change >= 0:\n",
    "            if (y_pred == y_true):\n",
    "                closing_balance = opening_balance*(1 + percent_change/100)\n",
    "            else:\n",
    "                closing_balance = opening_balance*(1 - percent_change/100)\n",
    "        elif percent_change < 0:\n",
    "            if (y_pred == y_true):\n",
    "                closing_balance = opening_balance*(1 - percent_change/100)\n",
    "            else:\n",
    "                closing_balance = opening_balance*(1 + percent_change/100)\n",
    "        else:\n",
    "            print(\"percent_change is: \", percent_change)\n",
    "        \n",
    "        trading_total.append(closing_balance)\n",
    "        opening_balance = closing_balance\n",
    "    \n",
    "    return trading_total"
   ]
  },
  {
   "cell_type": "code",
   "execution_count": 31,
   "metadata": {},
   "outputs": [],
   "source": [
    "input_days = 20\n",
    "X, y = feature_target(input_days, daily_changes_banded, daily_changes_binary)"
   ]
  },
  {
   "cell_type": "code",
   "execution_count": 32,
   "metadata": {},
   "outputs": [],
   "source": [
    "test_train_split = 3000\n",
    "X_train = X[:test_train_split]\n",
    "X_test = X[test_train_split:]\n",
    "y_train = y[:test_train_split]\n",
    "y_true = y[test_train_split:]"
   ]
  },
  {
   "cell_type": "code",
   "execution_count": 33,
   "metadata": {},
   "outputs": [],
   "source": [
    "inputs = keras.Input(shape=(X.shape[1], X.shape[2]))\n",
    "x = layers.LSTM(units=input_days, dropout = 0.05, activation='tanh')(inputs)\n",
    "x = layers.Dense(10, activation='tanh')(x)\n",
    "outputs = layers.Dense(1, activation='sigmoid')(x)\n",
    "model = keras.Model(inputs=inputs, outputs=outputs)\n",
    "#  model.summary()"
   ]
  },
  {
   "cell_type": "code",
   "execution_count": 34,
   "metadata": {},
   "outputs": [
    {
     "name": "stdout",
     "output_type": "stream",
     "text": [
      "Epoch 1/12\n",
      "94/94 [==============================] - 1s 6ms/step - loss: 0.6929 - accuracy: 0.5120\n",
      "Epoch 2/12\n",
      "94/94 [==============================] - 1s 7ms/step - loss: 0.6911 - accuracy: 0.5300\n",
      "Epoch 3/12\n",
      "94/94 [==============================] - 0s 5ms/step - loss: 0.6908 - accuracy: 0.5240\n",
      "Epoch 4/12\n",
      "94/94 [==============================] - 0s 5ms/step - loss: 0.6908 - accuracy: 0.5273\n",
      "Epoch 5/12\n",
      "94/94 [==============================] - 0s 5ms/step - loss: 0.6894 - accuracy: 0.5227\n",
      "Epoch 6/12\n",
      "94/94 [==============================] - 0s 5ms/step - loss: 0.6890 - accuracy: 0.5353\n",
      "Epoch 7/12\n",
      "94/94 [==============================] - 0s 5ms/step - loss: 0.6881 - accuracy: 0.5390\n",
      "Epoch 8/12\n",
      "94/94 [==============================] - 0s 5ms/step - loss: 0.6889 - accuracy: 0.5417\n",
      "Epoch 9/12\n",
      "94/94 [==============================] - 0s 5ms/step - loss: 0.6880 - accuracy: 0.5380\n",
      "Epoch 10/12\n",
      "94/94 [==============================] - 0s 5ms/step - loss: 0.6889 - accuracy: 0.5297\n",
      "Epoch 11/12\n",
      "94/94 [==============================] - 0s 5ms/step - loss: 0.6875 - accuracy: 0.5383\n",
      "Epoch 12/12\n",
      "94/94 [==============================] - 0s 5ms/step - loss: 0.6873 - accuracy: 0.5440\n"
     ]
    }
   ],
   "source": [
    "model.compile(optimizer='adam', loss='binary_crossentropy', metrics=['accuracy'])\n",
    "history = model.fit(X_train, y_train, batch_size=32, epochs=12)"
   ]
  },
  {
   "cell_type": "code",
   "execution_count": 35,
   "metadata": {},
   "outputs": [
    {
     "name": "stdout",
     "output_type": "stream",
     "text": [
      "53.40% accuracy\n"
     ]
    }
   ],
   "source": [
    "scores = model.evaluate(X_test, y_true, batch_size=20, verbose=False)\n",
    "print('{:.2f}% accuracy'.format(scores[1]*100))"
   ]
  },
  {
   "cell_type": "code",
   "execution_count": 36,
   "metadata": {},
   "outputs": [],
   "source": [
    "y_pred = model.predict(X_test)"
   ]
  },
  {
   "cell_type": "code",
   "execution_count": 37,
   "metadata": {},
   "outputs": [],
   "source": [
    "y_pred_binary = np.digitize(y_pred, [0.5])"
   ]
  },
  {
   "cell_type": "code",
   "execution_count": 38,
   "metadata": {},
   "outputs": [],
   "source": [
    "buyhold_returns = []\n",
    "opening = 10000\n",
    "\n",
    "for percent_change in daily_changes[test_train_split:]:\n",
    "    close = opening*(1 + (percent_change/100))\n",
    "    buyhold_returns.append(close)\n",
    "    opening = close"
   ]
  },
  {
   "cell_type": "code",
   "execution_count": 39,
   "metadata": {},
   "outputs": [],
   "source": [
    "active_returns = model_returns(y_pred_binary, y_true, daily_changes[test_train_split:])"
   ]
  },
  {
   "cell_type": "code",
   "execution_count": 40,
   "metadata": {},
   "outputs": [
    {
     "data": {
      "image/png": "[encoded data removed]",
      "text/plain": [
       "<Figure size 720x216 with 1 Axes>"
      ]
     },
     "metadata": {
      "needs_background": "light"
     },
     "output_type": "display_data"
    }
   ],
   "source": [
    "plt.figure(figsize=(10, 3))\n",
    "plt.plot(buyhold_returns, color='orange', label='Buy and Hold')\n",
    "plt.plot(active_returns, color='blue', label='Model')\n",
    "plt.xlabel('Days of Trading')\n",
    "plt.ylabel('Total Return')\n",
    "plt.legend()\n",
    "plt.show()"
   ]
  }
 ],
 "metadata": {
  "kernelspec": {
   "display_name": "venv",
   "language": "python",
   "name": "venv"
  },
  "language_info": {
   "codemirror_mode": {
    "name": "ipython",
    "version": 3
   },
   "file_extension": ".py",
   "mimetype": "text/x-python",
   "name": "python",
   "nbconvert_exporter": "python",
   "pygments_lexer": "ipython3",
   "version": "3.7.7"
  }
 },
 "nbformat": 4,
 "nbformat_minor": 4
}
