{
 "cells": [
  {
   "cell_type": "markdown",
   "metadata": {},
   "source": [
    "# Geo Alpha Algotrader Challenge"
   ]
  },
  {
   "cell_type": "markdown",
   "metadata": {},
   "source": [
    "### 0) Import Modules"
   ]
  },
  {
   "cell_type": "code",
   "execution_count": 1,
   "metadata": {},
   "outputs": [],
   "source": [
    "import pandas as pd\n",
    "import numpy as np\n",
    "import matplotlib.pyplot as plt\n",
    "import datetime as datetime\n",
    "import math\n",
    "\n",
    "from keras.models import Sequential\n",
    "from keras.layers import Dense\n",
    "from keras.layers import LSTM\n",
    "from keras.layers import Dropout\n",
    "\n",
    "from sklearn.preprocessing import MinMaxScaler"
   ]
  },
  {
   "cell_type": "markdown",
   "metadata": {},
   "source": [
    "Assumptions/Idealizations:\n",
    "\n",
    "1. Open-close difference is the closing price minus opening price of a each day.\n",
    "2. Open price is equal to previous days close price. (Sometimes there are out of hours trading which is unavailable)\n",
    "3. There exists a daily inverse AAPL fund which allows us to short AAPL on a daily basis when we think the stock will go down.\n",
    "4. If required we can buy/sell APPL or 'inverse AAPL' exactly at the beginning or end of the day."
   ]
  },
  {
   "cell_type": "markdown",
   "metadata": {},
   "source": [
    "### 1) Preprocess Data"
   ]
  },
  {
   "cell_type": "code",
   "execution_count": 2,
   "metadata": {},
   "outputs": [],
   "source": [
    "raw_DF = pd.read_csv(\"../data/AAPL_OC_return.csv\")\n",
    "DF = raw_DF[\"AAPL\"] # Ignore any signal in date field for now."
   ]
  },
  {
   "cell_type": "markdown",
   "metadata": {},
   "source": [
    "##### Histogram to 'eye-ball' confirm open-close differences correspond to AAPL stock going up more often than down."
   ]
  },
  {
   "cell_type": "code",
   "execution_count": 3,
   "metadata": {},
   "outputs": [
    {
     "data": {
      "text/plain": [
       "<AxesSubplot:ylabel='Frequency'>"
      ]
     },
     "execution_count": 3,
     "metadata": {},
     "output_type": "execute_result"
    },
    {
     "data": {
      "image/png": "[encoded data removed]",
      "text/plain": [
       "<Figure size 432x288 with 1 Axes>"
      ]
     },
     "metadata": {
      "needs_background": "light"
     },
     "output_type": "display_data"
    }
   ],
   "source": [
    "DF.plot.hist(grid=True, bins=50)"
   ]
  },
  {
   "cell_type": "markdown",
   "metadata": {},
   "source": [
    "First 3000 days will be used for training, the remaining 1625 days will be used for testing performance."
   ]
  },
  {
   "cell_type": "code",
   "execution_count": 4,
   "metadata": {
    "collapsed": false,
    "jupyter": {
     "outputs_hidden": false
    },
    "pycharm": {
     "name": "#%%\n"
    }
   },
   "outputs": [],
   "source": [
    "maximum = DF.max()\n",
    "#DF_scaled = scaler.fit_transform(DF.values.reshape(-1,1))\n",
    "DF_scaled = DF/maximum # this way negative numbers stay negative and positive numbers stay positive\n",
    "train_data_scaled = DF_scaled[:3000]"
   ]
  },
  {
   "cell_type": "markdown",
   "metadata": {},
   "source": [
    "### 2) Helper Functions"
   ]
  },
  {
   "cell_type": "code",
   "execution_count": 5,
   "metadata": {},
   "outputs": [],
   "source": [
    "def compound_returns(change_predictions):\n",
    "    \n",
    "    trading_total = []\n",
    "    trading_daily = []\n",
    "    opening_balance = 10000\n",
    "    \n",
    "    for actual_change, predicted_change in zip(DF[3000:], change_predictions):\n",
    "        \n",
    "        # correctly predict rise, add positive actual_change to balance\n",
    "        if actual_change >= 0 and predicted_change >= 0: \n",
    "            closing_balance = opening_balance*(1 + actual_change/100)\n",
    "        # correctly predict drop, subtract negative actual_change to balance\n",
    "        elif actual_change < 0 and predicted_change < 0:\n",
    "            closing_balance = opening_balance*(1 - actual_change/100)\n",
    "        # incorrectly predict drop, subtract positive actual_change to balance\n",
    "        elif actual_change >= 0 and predicted_change < 0:\n",
    "            closing_balance = opening_balance*(1 - actual_change/100)\n",
    "        # incorrectly predict rise, add negative actual_change to balance\n",
    "        elif actual_change < 0 and predicted_change >= 0:\n",
    "            closing_balance = opening_balance*(1 + actual_change/100)\n",
    "        else:\n",
    "            raise ValueError('Percentage change issue.')\n",
    "        \n",
    "        trading_daily.append(closing_balance - opening_balance)\n",
    "        trading_total.append(closing_balance)\n",
    "        opening_balance = closing_balance\n",
    "        \n",
    "    return trading_daily, trading_total"
   ]
  },
  {
   "cell_type": "code",
   "execution_count": 6,
   "metadata": {},
   "outputs": [],
   "source": [
    "def compound_actual_returns():\n",
    "    total_returns = []\n",
    "    daily_returns = []\n",
    "\n",
    "    opening = 10000\n",
    "\n",
    "    for percent_change in DF[3000:]:\n",
    "           \n",
    "        close = opening*(1 + (percent_change/100))\n",
    "        daily_returns.append(close - opening)\n",
    "        total_returns.append(close)\n",
    "        opening = close\n",
    "        \n",
    "    return daily_returns, total_returns"
   ]
  },
  {
   "cell_type": "code",
   "execution_count": 7,
   "metadata": {
    "collapsed": false,
    "jupyter": {
     "outputs_hidden": false
    },
    "pycharm": {
     "name": "#%%\n"
    }
   },
   "outputs": [],
   "source": [
    "def feature_target(N, time_series):\n",
    "    \"\"\"\n",
    "    Create feature-target pairs from a time series for model training.\n",
    "    The feature is a vector of N values corresponding to the consecutive sequence from i to j-1, where j-1-i=N.\n",
    "    The target is a scalar corresponding to the j(th) value.\n",
    "    \"\"\"\n",
    "\n",
    "    X = []\n",
    "    y = []\n",
    "\n",
    "    for j in range(N, len(time_series)):\n",
    "        X.append(time_series[j-N:j, 0])\n",
    "        y.append(time_series[j, 0])\n",
    "    \n",
    "    X = np.array(X) # can this be more compact?\n",
    "    X = np.reshape(X, (X.shape[0], X.shape[1], 1))\n",
    "    \n",
    "    return X, np.array(y)"
   ]
  },
  {
   "cell_type": "code",
   "execution_count": 36,
   "metadata": {},
   "outputs": [],
   "source": [
    "def build_model(units, input_shape, dropout, activation):\n",
    "    \n",
    "    model = Sequential()\n",
    "    model.add(LSTM(units=units, return_sequences=True, input_shape=input_shape, dropout=dropout))\n",
    "    model.add(LSTM(units=units, return_sequences=True, dropout=dropout))\n",
    "    #model.add(LSTM(units=units, return_sequences=True, dropout=dropout))\n",
    "    model.add(LSTM(units=units, dropout=dropout))\n",
    "    model.add(Dense(units = 1, activation=activation))\n",
    "    model.compile(optimizer = 'adam', loss = 'mean_squared_error')\n",
    "    \n",
    "    return model"
   ]
  },
  {
   "cell_type": "code",
   "execution_count": 9,
   "metadata": {},
   "outputs": [],
   "source": [
    "def create_matrix():\n",
    "    # columns and rows could be made arguments but hardwire for now.\n",
    "    columns = [\"January\", \"February\", \"March\", \"April\", \"May\", \"June\", \"July\", \"August\", \"September\", \"October\", \"November\", \"Decemeber\"]\n",
    "    rows = [2011, 2012, 2013, 2014, 2015, 2016, 2017, 2018]\n",
    "    \n",
    "    matrix_df = pd.DataFrame(columns = columns)\n",
    "    matrix_df[\"Year\"] = rows\n",
    "    matrix_df = matrix_df.set_index(\"Year\")\n",
    "    \n",
    "    for col in matrix_df.columns:\n",
    "        matrix_df[col].values[:] = 0\n",
    "        \n",
    "    return matrix_df"
   ]
  },
  {
   "cell_type": "code",
   "execution_count": 10,
   "metadata": {},
   "outputs": [],
   "source": [
    "def populate_matrix(matrix_df, metric_df):\n",
    "    \"\"\"\n",
    "    metric_df is the result of a groupby on year and month.\n",
    "    \"\"\"\n",
    "    month_dict = dict([(i+1, month) for i, month in enumerate(matrix_df.columns)])\n",
    "    for x, (year, month) in zip(metric_df, metric_df.index):\n",
    "        matrix_df.at[year, month_dict[month]] = x\n",
    "        \n",
    "    return None"
   ]
  },
  {
   "cell_type": "code",
   "execution_count": 11,
   "metadata": {},
   "outputs": [],
   "source": [
    "def populate_sharpe_matrix(annualized_sharpe_matrix_df, PnL_matrix_df, month_opens_matrix_df):\n",
    "    \n",
    "    dict_month = dict([(month, i+1) for i, month in enumerate(annualized_sharpe_matrix_df.columns)])\n",
    "    \n",
    "    month_ror_list = []\n",
    "    for i, row in PnL_matrix_df.iterrows():\n",
    "        for month in PnL_matrix_df.columns:\n",
    "        \n",
    "            # Warning: if clause hardwired.\n",
    "            if (dict_month[month] > 11 or i > 2011) and (dict_month[month] < 7 and i < 2019):\n",
    "          \n",
    "                month_ror_list.append(row[month]/month_opens_matrix_df.loc[i, month])\n",
    "        \n",
    "            if len(month_ror_list) > 1:    \n",
    "        \n",
    "                sum_diff = 0\n",
    "                for month_ror in month_ror_list:\n",
    "                    sum_diff += (month_ror - 0.002)\n",
    "        \n",
    "                r = sum_diff/len(month_ror_list)\n",
    "       \n",
    "                sum_diff_sd = 0\n",
    "                for month_ror in month_ror_list:\n",
    "                    sum_diff_sd += math.pow((month_ror - 0.002 - r), 2)\n",
    "            \n",
    "                sigma_sqrd = sum_diff_sd/(len(month_ror_list) - 1)\n",
    "                sigma = math.sqrt(sigma_sqrd)\n",
    "            \n",
    "                sharpe = r/sigma\n",
    "                annualized_sharpe_matrix_df.at[i, month] = sharpe*math.sqrt(12)\n",
    "            \n",
    "    return None"
   ]
  },
  {
   "cell_type": "code",
   "execution_count": 12,
   "metadata": {},
   "outputs": [],
   "source": [
    "def max_drawdown(total_PnL, window):\n",
    "    rolling_max = total_PnL.rolling(window, min_periods=1).max()\n",
    "    daily_drawdown = total_PnL/rolling_max - 1.0\n",
    "    max_drawdown = daily_drawdown.rolling(window, min_periods=1).min()\n",
    "    \n",
    "    return max_drawdown"
   ]
  },
  {
   "cell_type": "markdown",
   "metadata": {},
   "source": [
    "### 3) Model Training"
   ]
  },
  {
   "cell_type": "markdown",
   "metadata": {},
   "source": [
    "#### 3.1) LSTM Neural Network Approach"
   ]
  },
  {
   "cell_type": "code",
   "execution_count": 37,
   "metadata": {
    "collapsed": true,
    "jupyter": {
     "outputs_hidden": true
    }
   },
   "outputs": [
    {
     "name": "stdout",
     "output_type": "stream",
     "text": [
      "Epoch 1/20\n",
      "94/94 [==============================] - 0s 4ms/step - loss: 0.0085\n",
      "Epoch 2/20\n",
      "94/94 [==============================] - 0s 4ms/step - loss: 0.0085\n",
      "Epoch 3/20\n",
      "94/94 [==============================] - 0s 4ms/step - loss: 0.0085\n",
      "Epoch 4/20\n",
      "94/94 [==============================] - 0s 4ms/step - loss: 0.0085\n",
      "Epoch 5/20\n",
      "94/94 [==============================] - 0s 4ms/step - loss: 0.0085\n",
      "Epoch 6/20\n",
      "94/94 [==============================] - 0s 4ms/step - loss: 0.0085\n",
      "Epoch 7/20\n",
      "94/94 [==============================] - 0s 5ms/step - loss: 0.0085\n",
      "Epoch 8/20\n",
      "94/94 [==============================] - 0s 4ms/step - loss: 0.0085\n",
      "Epoch 9/20\n",
      "94/94 [==============================] - 0s 5ms/step - loss: 0.0085\n",
      "Epoch 10/20\n",
      "94/94 [==============================] - 0s 4ms/step - loss: 0.0085\n",
      "Epoch 11/20\n",
      "94/94 [==============================] - 0s 4ms/step - loss: 0.0085\n",
      "Epoch 12/20\n",
      "94/94 [==============================] - 0s 5ms/step - loss: 0.0085\n",
      "Epoch 13/20\n",
      "94/94 [==============================] - 0s 5ms/step - loss: 0.0085\n",
      "Epoch 14/20\n",
      "94/94 [==============================] - 0s 5ms/step - loss: 0.0085\n",
      "Epoch 15/20\n",
      "94/94 [==============================] - 0s 4ms/step - loss: 0.0085\n",
      "Epoch 16/20\n",
      "94/94 [==============================] - 0s 5ms/step - loss: 0.0084\n",
      "Epoch 17/20\n",
      "94/94 [==============================] - 0s 4ms/step - loss: 0.0085\n",
      "Epoch 18/20\n",
      "94/94 [==============================] - 0s 5ms/step - loss: 0.0085\n",
      "Epoch 19/20\n",
      "94/94 [==============================] - 0s 4ms/step - loss: 0.0085\n",
      "Epoch 20/20\n",
      "94/94 [==============================] - 0s 4ms/step - loss: 0.0085\n",
      "Epoch 1/20\n",
      "94/94 [==============================] - 1s 7ms/step - loss: 0.0085\n",
      "Epoch 2/20\n",
      "94/94 [==============================] - 1s 7ms/step - loss: 0.0085\n",
      "Epoch 3/20\n",
      "94/94 [==============================] - 1s 6ms/step - loss: 0.0085\n",
      "Epoch 4/20\n",
      "94/94 [==============================] - 1s 6ms/step - loss: 0.0085\n",
      "Epoch 5/20\n",
      "94/94 [==============================] - 1s 6ms/step - loss: 0.0085\n",
      "Epoch 6/20\n",
      "94/94 [==============================] - 1s 6ms/step - loss: 0.0085\n",
      "Epoch 7/20\n",
      "94/94 [==============================] - 1s 7ms/step - loss: 0.0085\n",
      "Epoch 8/20\n",
      "94/94 [==============================] - 1s 8ms/step - loss: 0.0085\n",
      "Epoch 9/20\n",
      "94/94 [==============================] - 1s 7ms/step - loss: 0.0085\n",
      "Epoch 10/20\n",
      "94/94 [==============================] - 1s 6ms/step - loss: 0.0084\n",
      "Epoch 11/20\n",
      "94/94 [==============================] - 1s 7ms/step - loss: 0.0085\n",
      "Epoch 12/20\n",
      "94/94 [==============================] - 1s 7ms/step - loss: 0.0085\n",
      "Epoch 13/20\n",
      "94/94 [==============================] - 1s 7ms/step - loss: 0.0085\n",
      "Epoch 14/20\n",
      "94/94 [==============================] - 1s 6ms/step - loss: 0.0085\n",
      "Epoch 15/20\n",
      "94/94 [==============================] - 1s 6ms/step - loss: 0.0084\n",
      "Epoch 16/20\n",
      "94/94 [==============================] - 1s 6ms/step - loss: 0.0085\n",
      "Epoch 17/20\n",
      "94/94 [==============================] - 1s 6ms/step - loss: 0.0084\n",
      "Epoch 18/20\n",
      "94/94 [==============================] - 1s 11ms/step - loss: 0.0085\n",
      "Epoch 19/20\n",
      "94/94 [==============================] - 1s 14ms/step - loss: 0.0085\n",
      "Epoch 20/20\n",
      "94/94 [==============================] - 1s 14ms/step - loss: 0.0084\n",
      "Epoch 1/20\n",
      "94/94 [==============================] - 3s 35ms/step - loss: 0.0085\n",
      "Epoch 2/20\n",
      "94/94 [==============================] - 3s 36ms/step - loss: 0.0085\n",
      "Epoch 3/20\n",
      "94/94 [==============================] - 4s 38ms/step - loss: 0.0085\n",
      "Epoch 4/20\n",
      "94/94 [==============================] - 3s 37ms/step - loss: 0.0085\n",
      "Epoch 5/20\n",
      "94/94 [==============================] - 4s 43ms/step - loss: 0.0085\n",
      "Epoch 6/20\n",
      "94/94 [==============================] - 3s 30ms/step - loss: 0.0085\n",
      "Epoch 7/20\n",
      "94/94 [==============================] - 2s 26ms/step - loss: 0.0085\n",
      "Epoch 8/20\n",
      "94/94 [==============================] - 3s 30ms/step - loss: 0.0085\n",
      "Epoch 9/20\n",
      "94/94 [==============================] - 3s 30ms/step - loss: 0.0085\n",
      "Epoch 10/20\n",
      "94/94 [==============================] - 2s 25ms/step - loss: 0.0085\n",
      "Epoch 11/20\n",
      "94/94 [==============================] - 2s 25ms/step - loss: 0.0085\n",
      "Epoch 12/20\n",
      "94/94 [==============================] - 3s 32ms/step - loss: 0.0085\n",
      "Epoch 13/20\n",
      "94/94 [==============================] - 3s 28ms/step - loss: 0.0085\n",
      "Epoch 14/20\n",
      "94/94 [==============================] - 3s 27ms/step - loss: 0.0085\n",
      "Epoch 15/20\n",
      "94/94 [==============================] - 3s 27ms/step - loss: 0.0085: 0s - loss: 0.00\n",
      "Epoch 16/20\n",
      "94/94 [==============================] - 3s 27ms/step - loss: 0.0085\n",
      "Epoch 17/20\n",
      "94/94 [==============================] - 3s 28ms/step - loss: 0.0085: 0s - loss: 0.\n",
      "Epoch 18/20\n",
      "94/94 [==============================] - 3s 29ms/step - loss: 0.0085\n",
      "Epoch 19/20\n",
      "94/94 [==============================] - 3s 30ms/step - loss: 0.0085\n",
      "Epoch 20/20\n",
      "94/94 [==============================] - 3s 32ms/step - loss: 0.0085\n"
     ]
    }
   ],
   "source": [
    "all_predictions = []\n",
    "all_actuals = []\n",
    "for N in [3, 7, 15]: #, 30, 50, 100]: #, 7, 11, 17, 23, 31, 41, 47, 59, 50]:\n",
    "    \n",
    "    lstm_units = N\n",
    "    dropout = 0.1\n",
    "    activation = 'tanh'\n",
    "    \n",
    "    X, y = feature_target(N, train_data_scaled.values.reshape(-1,1)) #.values.reshape(-1,1)) # RED FLAG scaled deleted\n",
    "    \n",
    "    model = build_model(lstm_units, (X.shape[1], 1), dropout, activation)\n",
    "    model.fit(X, y, epochs = 20, batch_size = 32)\n",
    "    \n",
    "    test_data_scaled = DF_scaled[3000-N:]\n",
    "    X_test, _ = feature_target(N, test_data_scaled.values.reshape(-1,1))\n",
    "    \n",
    "    y_hat = model.predict(X_test)\n",
    "    \n",
    "    all_predictions.append(y_hat)    "
   ]
  },
  {
   "cell_type": "code",
   "execution_count": 14,
   "metadata": {},
   "outputs": [],
   "source": [
    "y_actual = DF_scaled[3000:].values"
   ]
  },
  {
   "cell_type": "markdown",
   "metadata": {},
   "source": [
    "Below I plot the LSTM model predictions agains the actual targets for windows of time, in this case, 3, 7 and 15 days. But I rescale the graphs so you will percentage changes. "
   ]
  },
  {
   "cell_type": "code",
   "execution_count": 15,
   "metadata": {},
   "outputs": [
    {
     "data": {
      "image/png": "[encoded data removed]",
      "text/plain": [
       "<Figure size 360x216 with 1 Axes>"
      ]
     },
     "metadata": {
      "needs_background": "light"
     },
     "output_type": "display_data"
    },
    {
     "data": {
      "image/png": "[encoded data removed]",
      "text/plain": [
       "<Figure size 360x216 with 1 Axes>"
      ]
     },
     "metadata": {
      "needs_background": "light"
     },
     "output_type": "display_data"
    },
    {
     "data": {
      "image/png": "[encoded data removed]",
      "text/plain": [
       "<Figure size 360x216 with 1 Axes>"
      ]
     },
     "metadata": {
      "needs_background": "light"
     },
     "output_type": "display_data"
    }
   ],
   "source": [
    "for j, N in [(0, 3), (1, 7), (2, 15)]:#, (3, 30), (4, 50), (5, 100)]:\n",
    "    plt.figure(figsize=(5,3))\n",
    "    plt.plot(y_actual*maximum, color='blue', label='Actual')\n",
    "    plt.plot(all_predictions[j]*maximum, color='red', label='Predicted')\n",
    "    plt.xlabel('Days of Trading')\n",
    "    plt.ylabel('Percent Change in AAPL')\n",
    "    plt.legend()\n",
    "    plt.show()"
   ]
  },
  {
   "cell_type": "markdown",
   "metadata": {},
   "source": [
    "Below I plot the predictions for N = 3, 7, 15 together. Their peaks and troughs do match those of each other and the actual targets, but their variance is much lower, and the prediction is always possible. I interpret this as the LSTM model quickly learning that Apple stocks are more likely to go up than down, which means the model has no real predictive value, since it doesn't help us short."
   ]
  },
  {
   "cell_type": "code",
   "execution_count": 16,
   "metadata": {},
   "outputs": [
    {
     "data": {
      "image/png": "[encoded data removed]",
      "text/plain": [
       "<Figure size 360x216 with 1 Axes>"
      ]
     },
     "metadata": {
      "needs_background": "light"
     },
     "output_type": "display_data"
    }
   ],
   "source": [
    "plt.figure(figsize=(5,3))\n",
    "plt.plot(all_predictions[0]*maximum, color='red', label='N = 3')\n",
    "plt.plot(all_predictions[1]*maximum, color='green', label='N = 7')\n",
    "plt.plot(all_predictions[2]*maximum, color='blue', label='N = 15')\n",
    "#plt.plot(all_predictions[3], color='black', label='Predicted Apple Stock Price')\n",
    "#plt.plot(all_predictions[4], color='orange', label='Predicted Apple Stock Price')\n",
    "#plt.plot(all_predictions[5], color='brown', label='Predicted Apple Stock Price')\n",
    "plt.xlabel('Days of Trading')\n",
    "plt.ylabel('Prediction')\n",
    "plt.legend()\n",
    "plt.show()"
   ]
  },
  {
   "cell_type": "markdown",
   "metadata": {},
   "source": [
    "Below I plot the actual targets versus predictions for N = 3, 7, and 15. These plots confirm that the model has little to no predictive value. If the LSTM model had predictive power we would see points grouped along a diagonal line with positive gradient, instead the points a distributed normally around the origin. "
   ]
  },
  {
   "cell_type": "code",
   "execution_count": 17,
   "metadata": {},
   "outputs": [
    {
     "data": {
      "image/png": "[encoded data removed]",
      "text/plain": [
       "<Figure size 360x216 with 1 Axes>"
      ]
     },
     "metadata": {
      "needs_background": "light"
     },
     "output_type": "display_data"
    },
    {
     "data": {
      "image/png": "[encoded data removed]",
      "text/plain": [
       "<Figure size 360x216 with 1 Axes>"
      ]
     },
     "metadata": {
      "needs_background": "light"
     },
     "output_type": "display_data"
    },
    {
     "data": {
      "image/png": "[encoded data removed]",
      "text/plain": [
       "<Figure size 360x216 with 1 Axes>"
      ]
     },
     "metadata": {
      "needs_background": "light"
     },
     "output_type": "display_data"
    }
   ],
   "source": [
    "for j, N in [(0, 3), (1, 7), (2, 15)]:#, (3, 30), (4, 50), (5, 100)]:\n",
    "    plt.figure(figsize=(5, 3))\n",
    "    plt.scatter(all_predictions[j], y_actual)\n",
    "    plt.xlabel('Prediction')\n",
    "    plt.ylabel('Actual')\n",
    "    plt.show()"
   ]
  },
  {
   "cell_type": "markdown",
   "metadata": {},
   "source": [
    "Since LSTM model prediction is always positive the trading balance based on its strategy will be the same as the buy and hold strategy."
   ]
  },
  {
   "cell_type": "markdown",
   "metadata": {},
   "source": [
    "#### 3.2) Crude \"Momentum\" Model (just to make the statistics more interesting)"
   ]
  },
  {
   "cell_type": "markdown",
   "metadata": {},
   "source": [
    "To make the statistical comparison more interesting I also consider a crude momentum strategy - predict tomorrows return will be the same as today's:"
   ]
  },
  {
   "cell_type": "code",
   "execution_count": 18,
   "metadata": {},
   "outputs": [],
   "source": [
    "crude_mom_prediction = DF[2999:-1].values"
   ]
  },
  {
   "cell_type": "markdown",
   "metadata": {},
   "source": [
    "But from the graph below we can already see that this strategy has very little to no predictive power, we also see that the general pattern is the same as for the LSTM approach, which suggests to me that the LSTM model learned to predicted a little higher when previous days were up and a little lower when previous days were down."
   ]
  },
  {
   "cell_type": "code",
   "execution_count": 19,
   "metadata": {},
   "outputs": [
    {
     "data": {
      "image/png": "[encoded data removed]",
      "text/plain": [
       "<Figure size 360x216 with 1 Axes>"
      ]
     },
     "metadata": {
      "needs_background": "light"
     },
     "output_type": "display_data"
    }
   ],
   "source": [
    "plt.figure(figsize=(5, 3))\n",
    "plt.scatter(crude_mom_prediction, y_actual*maximum)\n",
    "plt.xlabel('Prediction')\n",
    "plt.ylabel('Actual')\n",
    "plt.show()"
   ]
  },
  {
   "cell_type": "markdown",
   "metadata": {},
   "source": [
    "### 4) Output"
   ]
  },
  {
   "cell_type": "markdown",
   "metadata": {},
   "source": [
    "##### Requested Output:"
   ]
  },
  {
   "cell_type": "markdown",
   "metadata": {},
   "source": [
    "1. PnL plot (using $10,000 investment on day 1 compounded throughout the 4626 days of the returns series))\n",
    "2. Monthly return matrix (this is just monthly PnL(columns) by year (rows))\n",
    "3. Daily return\n",
    "4. Annualised Sharpe\n",
    "5. Max drawdown\n",
    "6. Performance vs. a buy – and – hold strategy"
   ]
  },
  {
   "cell_type": "markdown",
   "metadata": {},
   "source": [
    "My outputs assume that trading or investment begins on the 3001st day of available data."
   ]
  },
  {
   "cell_type": "code",
   "execution_count": 20,
   "metadata": {},
   "outputs": [],
   "source": [
    "output_DF = raw_DF[3000:]"
   ]
  },
  {
   "cell_type": "code",
   "execution_count": 21,
   "metadata": {},
   "outputs": [
    {
     "name": "stderr",
     "output_type": "stream",
     "text": [
      "c:\\users\\wwevans\\desktop\\github\\apple\\venv\\lib\\site-packages\\ipykernel_launcher.py:1: SettingWithCopyWarning: \n",
      "A value is trying to be set on a copy of a slice from a DataFrame.\n",
      "Try using .loc[row_indexer,col_indexer] = value instead\n",
      "\n",
      "See the caveats in the documentation: https://pandas.pydata.org/pandas-docs/stable/user_guide/indexing.html#returning-a-view-versus-a-copy\n",
      "  \"\"\"Entry point for launching an IPython kernel.\n"
     ]
    }
   ],
   "source": [
    "output_DF[\"Date\"] = output_DF[\"Date\"].apply(lambda x: datetime.datetime.strptime(x, '%d/%m/%Y'))"
   ]
  },
  {
   "cell_type": "code",
   "execution_count": 22,
   "metadata": {},
   "outputs": [],
   "source": [
    "buyandhold_daily, buyandhold_total = compound_actual_returns()"
   ]
  },
  {
   "cell_type": "code",
   "execution_count": 23,
   "metadata": {},
   "outputs": [
    {
     "name": "stderr",
     "output_type": "stream",
     "text": [
      "c:\\users\\wwevans\\desktop\\github\\apple\\venv\\lib\\site-packages\\pandas\\core\\indexing.py:845: SettingWithCopyWarning: \n",
      "A value is trying to be set on a copy of a slice from a DataFrame.\n",
      "Try using .loc[row_indexer,col_indexer] = value instead\n",
      "\n",
      "See the caveats in the documentation: https://pandas.pydata.org/pandas-docs/stable/user_guide/indexing.html#returning-a-view-versus-a-copy\n",
      "  self.obj[key] = _infer_fill_value(value)\n",
      "c:\\users\\wwevans\\desktop\\github\\apple\\venv\\lib\\site-packages\\pandas\\core\\indexing.py:966: SettingWithCopyWarning: \n",
      "A value is trying to be set on a copy of a slice from a DataFrame.\n",
      "Try using .loc[row_indexer,col_indexer] = value instead\n",
      "\n",
      "See the caveats in the documentation: https://pandas.pydata.org/pandas-docs/stable/user_guide/indexing.html#returning-a-view-versus-a-copy\n",
      "  self.obj[item] = s\n"
     ]
    }
   ],
   "source": [
    "output_DF.loc[:, \"BnH Daily\"] = buyandhold_daily\n",
    "output_DF.loc[:, \"BnH Total\"] = buyandhold_total"
   ]
  },
  {
   "cell_type": "code",
   "execution_count": 24,
   "metadata": {},
   "outputs": [],
   "source": [
    "trading_daily_lstm, trading_total_lstm = compound_returns(all_predictions[0]*maximum)\n",
    "#output_DF[\"Trading 1 Pred.\"] = scaler.inverse_transform(all_predictions[0].reshape(-1, 1))\n",
    "output_DF.loc[:, \"Trading LSTM Pred.\"] = all_predictions[0]*maximum\n",
    "output_DF.loc[:, \"Trading LSTM Daily\"] = trading_daily_lstm\n",
    "output_DF.loc[:, \"Trading LSTM Total\"] = trading_total_lstm"
   ]
  },
  {
   "cell_type": "code",
   "execution_count": 25,
   "metadata": {},
   "outputs": [],
   "source": [
    "trading_daily_mom, trading_total_mom = compound_returns(crude_mom_prediction)\n",
    "output_DF.loc[:, \"Trading Mom. Pred.\"] = crude_mom_prediction\n",
    "output_DF.loc[:, \"Trading Mom. Daily\"] = trading_daily_mom\n",
    "output_DF.loc[:, \"Trading Mom. Total\"] = trading_total_mom"
   ]
  },
  {
   "cell_type": "code",
   "execution_count": 26,
   "metadata": {},
   "outputs": [
    {
     "data": {
      "image/png": "[encoded data removed]",
      "text/plain": [
       "<Figure size 720x216 with 1 Axes>"
      ]
     },
     "metadata": {
      "needs_background": "light"
     },
     "output_type": "display_data"
    },
    {
     "data": {
      "image/png": "[encoded data removed]",
      "text/plain": [
       "<Figure size 720x216 with 1 Axes>"
      ]
     },
     "metadata": {
      "needs_background": "light"
     },
     "output_type": "display_data"
    }
   ],
   "source": [
    "plt.figure(figsize=(10, 3))\n",
    "plt.plot(output_DF[\"BnH Total\"].values, color='orange', label='LSTM / Buy+Hold')\n",
    "plt.plot(output_DF[\"Trading Mom. Total\"].values, color='blue', label='Crude Momentum')\n",
    "plt.xlabel('Days of Trading')\n",
    "plt.ylabel('Total Return')\n",
    "plt.legend()\n",
    "plt.show()\n",
    "\n",
    "plt.figure(figsize=(10, 3))\n",
    "plt.plot(output_DF[\"BnH Daily\"].values, color='orange', label='LSTM / Buy+Hold')\n",
    "plt.plot(output_DF[\"Trading Mom. Daily\"].values, color='blue', label='Crude Momentum')\n",
    "plt.xlabel('Days of Trading')\n",
    "plt.ylabel('Daily Return')\n",
    "plt.legend()\n",
    "plt.show()"
   ]
  },
  {
   "cell_type": "code",
   "execution_count": 27,
   "metadata": {},
   "outputs": [],
   "source": [
    "max_drawdown_BnH = max_drawdown(output_DF[\"BnH Total\"], 252)\n",
    "max_drawdown_mom = max_drawdown(output_DF[\"Trading Mom. Total\"], 252)"
   ]
  },
  {
   "cell_type": "code",
   "execution_count": 28,
   "metadata": {},
   "outputs": [
    {
     "data": {
      "image/png": "[encoded data removed]",
      "text/plain": [
       "<Figure size 720x216 with 1 Axes>"
      ]
     },
     "metadata": {
      "needs_background": "light"
     },
     "output_type": "display_data"
    }
   ],
   "source": [
    "plt.figure(figsize=(10, 3))\n",
    "plt.plot(max_drawdown_BnH.values, color='orange', label='LSTM / Buy+Hold')\n",
    "plt.plot(max_drawdown_mom.values, color='blue', label='Crude Momentum')\n",
    "plt.xlabel('Days of Trading')\n",
    "plt.ylabel('Max Drawdown')\n",
    "plt.legend()\n",
    "plt.show()"
   ]
  },
  {
   "cell_type": "code",
   "execution_count": 29,
   "metadata": {},
   "outputs": [],
   "source": [
    "def generate_matrix_output(daily_returns_name, total_returns_name, output_DF):\n",
    "    monthly_PnL = output_DF.groupby([output_DF.Date.dt.year, output_DF.Date.dt.month])[daily_returns_name].sum()\n",
    "    monthly_opening_balance = output_DF.groupby([output_DF.Date.dt.year, output_DF.Date.dt.month])[total_returns_name].last()\n",
    "    PnL_matrix_df = create_matrix()\n",
    "    populate_matrix(PnL_matrix_df, monthly_PnL)\n",
    "    month_opens_matrix_df = create_matrix()\n",
    "    populate_matrix(month_opens_matrix_df, monthly_opening_balance)\n",
    "    annualized_sharpe_matrix_df = create_matrix()\n",
    "    populate_sharpe_matrix(annualized_sharpe_matrix_df, PnL_matrix_df, month_opens_matrix_df)\n",
    "    \n",
    "    return PnL_matrix_df, annualized_sharpe_matrix_df"
   ]
  },
  {
   "cell_type": "code",
   "execution_count": 30,
   "metadata": {},
   "outputs": [],
   "source": [
    "aapl_PnL_matrix, aapl_sharpe_matrix = generate_matrix_output(\"BnH Daily\", \"BnH Total\", output_DF)"
   ]
  },
  {
   "cell_type": "code",
   "execution_count": 31,
   "metadata": {},
   "outputs": [
    {
     "data": {
      "text/html": [
       "<div>\n",
       "<style scoped>\n",
       "    .dataframe tbody tr th:only-of-type {\n",
       "        vertical-align: middle;\n",
       "    }\n",
       "\n",
       "    .dataframe tbody tr th {\n",
       "        vertical-align: top;\n",
       "    }\n",
       "\n",
       "    .dataframe thead th {\n",
       "        text-align: right;\n",
       "    }\n",
       "</style>\n",
       "<table border=\"1\" class=\"dataframe\">\n",
       "  <thead>\n",
       "    <tr style=\"text-align: right;\">\n",
       "      <th></th>\n",
       "      <th>January</th>\n",
       "      <th>February</th>\n",
       "      <th>March</th>\n",
       "      <th>April</th>\n",
       "      <th>May</th>\n",
       "      <th>June</th>\n",
       "      <th>July</th>\n",
       "      <th>August</th>\n",
       "      <th>September</th>\n",
       "      <th>October</th>\n",
       "      <th>November</th>\n",
       "      <th>Decemeber</th>\n",
       "    </tr>\n",
       "    <tr>\n",
       "      <th>Year</th>\n",
       "      <th></th>\n",
       "      <th></th>\n",
       "      <th></th>\n",
       "      <th></th>\n",
       "      <th></th>\n",
       "      <th></th>\n",
       "      <th></th>\n",
       "      <th></th>\n",
       "      <th></th>\n",
       "      <th></th>\n",
       "      <th></th>\n",
       "      <th></th>\n",
       "    </tr>\n",
       "  </thead>\n",
       "  <tbody>\n",
       "    <tr>\n",
       "      <th>2011</th>\n",
       "      <td>0</td>\n",
       "      <td>0</td>\n",
       "      <td>0</td>\n",
       "      <td>0</td>\n",
       "      <td>0</td>\n",
       "      <td>0</td>\n",
       "      <td>0</td>\n",
       "      <td>0</td>\n",
       "      <td>0</td>\n",
       "      <td>0</td>\n",
       "      <td>0</td>\n",
       "      <td>270.909</td>\n",
       "    </tr>\n",
       "    <tr>\n",
       "      <th>2012</th>\n",
       "      <td>878.384</td>\n",
       "      <td>1244.95</td>\n",
       "      <td>758.24</td>\n",
       "      <td>-175.267</td>\n",
       "      <td>-68.3333</td>\n",
       "      <td>105.853</td>\n",
       "      <td>207.217</td>\n",
       "      <td>932.442</td>\n",
       "      <td>-56.6728</td>\n",
       "      <td>-784.543</td>\n",
       "      <td>-96.6357</td>\n",
       "      <td>-576.315</td>\n",
       "    </tr>\n",
       "    <tr>\n",
       "      <th>2013</th>\n",
       "      <td>-841.063</td>\n",
       "      <td>-189.955</td>\n",
       "      <td>-26.301</td>\n",
       "      <td>-135.349</td>\n",
       "      <td>97.007</td>\n",
       "      <td>-1042.48</td>\n",
       "      <td>894.535</td>\n",
       "      <td>485.486</td>\n",
       "      <td>-183.687</td>\n",
       "      <td>655.077</td>\n",
       "      <td>650.314</td>\n",
       "      <td>88.5406</td>\n",
       "    </tr>\n",
       "    <tr>\n",
       "      <th>2014</th>\n",
       "      <td>-864.901</td>\n",
       "      <td>324.57</td>\n",
       "      <td>222.716</td>\n",
       "      <td>831.731</td>\n",
       "      <td>901.24</td>\n",
       "      <td>374.862</td>\n",
       "      <td>417.306</td>\n",
       "      <td>1202.53</td>\n",
       "      <td>-552.531</td>\n",
       "      <td>634.483</td>\n",
       "      <td>1441.1</td>\n",
       "      <td>-1026.16</td>\n",
       "    </tr>\n",
       "    <tr>\n",
       "      <th>2015</th>\n",
       "      <td>362.756</td>\n",
       "      <td>796.181</td>\n",
       "      <td>-416.266</td>\n",
       "      <td>118.101</td>\n",
       "      <td>494.232</td>\n",
       "      <td>-673.13</td>\n",
       "      <td>-569.282</td>\n",
       "      <td>-847.954</td>\n",
       "      <td>-279.656</td>\n",
       "      <td>790.872</td>\n",
       "      <td>-181.451</td>\n",
       "      <td>-1106.53</td>\n",
       "    </tr>\n",
       "    <tr>\n",
       "      <th>2016</th>\n",
       "      <td>-633.772</td>\n",
       "      <td>27.7206</td>\n",
       "      <td>1282.98</td>\n",
       "      <td>-1587.8</td>\n",
       "      <td>594.556</td>\n",
       "      <td>-660.448</td>\n",
       "      <td>1006.88</td>\n",
       "      <td>-0.412114</td>\n",
       "      <td>463.371</td>\n",
       "      <td>-52.0823</td>\n",
       "      <td>-563.053</td>\n",
       "      <td>582.605</td>\n",
       "    </tr>\n",
       "    <tr>\n",
       "      <th>2017</th>\n",
       "      <td>1277.7</td>\n",
       "      <td>2986.93</td>\n",
       "      <td>1457.6</td>\n",
       "      <td>-41.4788</td>\n",
       "      <td>1469.76</td>\n",
       "      <td>-1206.8</td>\n",
       "      <td>596.717</td>\n",
       "      <td>1792.48</td>\n",
       "      <td>-1353.32</td>\n",
       "      <td>1978.76</td>\n",
       "      <td>112.119</td>\n",
       "      <td>-317.96</td>\n",
       "    </tr>\n",
       "    <tr>\n",
       "      <th>2018</th>\n",
       "      <td>-266.66</td>\n",
       "      <td>55.2109</td>\n",
       "      <td>-988.406</td>\n",
       "      <td>-282.046</td>\n",
       "      <td>1427.9</td>\n",
       "      <td>-164.661</td>\n",
       "      <td>0</td>\n",
       "      <td>0</td>\n",
       "      <td>0</td>\n",
       "      <td>0</td>\n",
       "      <td>0</td>\n",
       "      <td>0</td>\n",
       "    </tr>\n",
       "  </tbody>\n",
       "</table>\n",
       "</div>"
      ],
      "text/plain": [
       "      January February    March    April      May     June     July    August  \\\n",
       "Year                                                                            \n",
       "2011        0        0        0        0        0        0        0         0   \n",
       "2012  878.384  1244.95   758.24 -175.267 -68.3333  105.853  207.217   932.442   \n",
       "2013 -841.063 -189.955  -26.301 -135.349   97.007 -1042.48  894.535   485.486   \n",
       "2014 -864.901   324.57  222.716  831.731   901.24  374.862  417.306   1202.53   \n",
       "2015  362.756  796.181 -416.266  118.101  494.232  -673.13 -569.282  -847.954   \n",
       "2016 -633.772  27.7206  1282.98  -1587.8  594.556 -660.448  1006.88 -0.412114   \n",
       "2017   1277.7  2986.93   1457.6 -41.4788  1469.76  -1206.8  596.717   1792.48   \n",
       "2018  -266.66  55.2109 -988.406 -282.046   1427.9 -164.661        0         0   \n",
       "\n",
       "     September  October November Decemeber  \n",
       "Year                                        \n",
       "2011         0        0        0   270.909  \n",
       "2012  -56.6728 -784.543 -96.6357  -576.315  \n",
       "2013  -183.687  655.077  650.314   88.5406  \n",
       "2014  -552.531  634.483   1441.1  -1026.16  \n",
       "2015  -279.656  790.872 -181.451  -1106.53  \n",
       "2016   463.371 -52.0823 -563.053   582.605  \n",
       "2017  -1353.32  1978.76  112.119   -317.96  \n",
       "2018         0        0        0         0  "
      ]
     },
     "execution_count": 31,
     "metadata": {},
     "output_type": "execute_result"
    }
   ],
   "source": [
    "aapl_PnL_matrix"
   ]
  },
  {
   "cell_type": "code",
   "execution_count": 32,
   "metadata": {},
   "outputs": [
    {
     "data": {
      "text/html": [
       "<div>\n",
       "<style scoped>\n",
       "    .dataframe tbody tr th:only-of-type {\n",
       "        vertical-align: middle;\n",
       "    }\n",
       "\n",
       "    .dataframe tbody tr th {\n",
       "        vertical-align: top;\n",
       "    }\n",
       "\n",
       "    .dataframe thead th {\n",
       "        text-align: right;\n",
       "    }\n",
       "</style>\n",
       "<table border=\"1\" class=\"dataframe\">\n",
       "  <thead>\n",
       "    <tr style=\"text-align: right;\">\n",
       "      <th></th>\n",
       "      <th>January</th>\n",
       "      <th>February</th>\n",
       "      <th>March</th>\n",
       "      <th>April</th>\n",
       "      <th>May</th>\n",
       "      <th>June</th>\n",
       "      <th>July</th>\n",
       "      <th>August</th>\n",
       "      <th>September</th>\n",
       "      <th>October</th>\n",
       "      <th>November</th>\n",
       "      <th>Decemeber</th>\n",
       "    </tr>\n",
       "    <tr>\n",
       "      <th>Year</th>\n",
       "      <th></th>\n",
       "      <th></th>\n",
       "      <th></th>\n",
       "      <th></th>\n",
       "      <th></th>\n",
       "      <th></th>\n",
       "      <th></th>\n",
       "      <th></th>\n",
       "      <th></th>\n",
       "      <th></th>\n",
       "      <th></th>\n",
       "      <th></th>\n",
       "    </tr>\n",
       "  </thead>\n",
       "  <tbody>\n",
       "    <tr>\n",
       "      <th>2011</th>\n",
       "      <td>0</td>\n",
       "      <td>0</td>\n",
       "      <td>0</td>\n",
       "      <td>0</td>\n",
       "      <td>0</td>\n",
       "      <td>0</td>\n",
       "      <td>0</td>\n",
       "      <td>0</td>\n",
       "      <td>0</td>\n",
       "      <td>0</td>\n",
       "      <td>0</td>\n",
       "      <td>0</td>\n",
       "    </tr>\n",
       "    <tr>\n",
       "      <th>2012</th>\n",
       "      <td>0</td>\n",
       "      <td>19.8145</td>\n",
       "      <td>12.4586</td>\n",
       "      <td>3.77386</td>\n",
       "      <td>2.83841</td>\n",
       "      <td>2.59381</td>\n",
       "      <td>2.59381</td>\n",
       "      <td>2.59381</td>\n",
       "      <td>2.59381</td>\n",
       "      <td>2.59381</td>\n",
       "      <td>2.59381</td>\n",
       "      <td>2.59381</td>\n",
       "    </tr>\n",
       "    <tr>\n",
       "      <th>2013</th>\n",
       "      <td>1.16378</td>\n",
       "      <td>0.929047</td>\n",
       "      <td>0.845785</td>\n",
       "      <td>0.703182</td>\n",
       "      <td>0.714909</td>\n",
       "      <td>0.0490496</td>\n",
       "      <td>0.0490496</td>\n",
       "      <td>0.0490496</td>\n",
       "      <td>0.0490496</td>\n",
       "      <td>0.0490496</td>\n",
       "      <td>0.0490496</td>\n",
       "      <td>0.0490496</td>\n",
       "    </tr>\n",
       "    <tr>\n",
       "      <th>2014</th>\n",
       "      <td>-0.290556</td>\n",
       "      <td>-0.173035</td>\n",
       "      <td>-0.10133</td>\n",
       "      <td>0.139934</td>\n",
       "      <td>0.355367</td>\n",
       "      <td>0.428719</td>\n",
       "      <td>0.428719</td>\n",
       "      <td>0.428719</td>\n",
       "      <td>0.428719</td>\n",
       "      <td>0.428719</td>\n",
       "      <td>0.428719</td>\n",
       "      <td>0.428719</td>\n",
       "    </tr>\n",
       "    <tr>\n",
       "      <th>2015</th>\n",
       "      <td>0.483784</td>\n",
       "      <td>0.608768</td>\n",
       "      <td>0.504666</td>\n",
       "      <td>0.508383</td>\n",
       "      <td>0.574297</td>\n",
       "      <td>0.430551</td>\n",
       "      <td>0.430551</td>\n",
       "      <td>0.430551</td>\n",
       "      <td>0.430551</td>\n",
       "      <td>0.430551</td>\n",
       "      <td>0.430551</td>\n",
       "      <td>0.430551</td>\n",
       "    </tr>\n",
       "    <tr>\n",
       "      <th>2016</th>\n",
       "      <td>0.28415</td>\n",
       "      <td>0.278427</td>\n",
       "      <td>0.466698</td>\n",
       "      <td>0.153472</td>\n",
       "      <td>0.23539</td>\n",
       "      <td>0.12187</td>\n",
       "      <td>0.12187</td>\n",
       "      <td>0.12187</td>\n",
       "      <td>0.12187</td>\n",
       "      <td>0.12187</td>\n",
       "      <td>0.12187</td>\n",
       "      <td>0.12187</td>\n",
       "    </tr>\n",
       "    <tr>\n",
       "      <th>2017</th>\n",
       "      <td>0.270132</td>\n",
       "      <td>0.514383</td>\n",
       "      <td>0.618701</td>\n",
       "      <td>0.602188</td>\n",
       "      <td>0.694812</td>\n",
       "      <td>0.574417</td>\n",
       "      <td>0.574417</td>\n",
       "      <td>0.574417</td>\n",
       "      <td>0.574417</td>\n",
       "      <td>0.574417</td>\n",
       "      <td>0.574417</td>\n",
       "      <td>0.574417</td>\n",
       "    </tr>\n",
       "    <tr>\n",
       "      <th>2018</th>\n",
       "      <td>0.544024</td>\n",
       "      <td>0.537265</td>\n",
       "      <td>0.453396</td>\n",
       "      <td>0.424537</td>\n",
       "      <td>0.502051</td>\n",
       "      <td>0.482256</td>\n",
       "      <td>0.482256</td>\n",
       "      <td>0.482256</td>\n",
       "      <td>0.482256</td>\n",
       "      <td>0.482256</td>\n",
       "      <td>0.482256</td>\n",
       "      <td>0.482256</td>\n",
       "    </tr>\n",
       "  </tbody>\n",
       "</table>\n",
       "</div>"
      ],
      "text/plain": [
       "       January  February     March     April       May       June       July  \\\n",
       "Year                                                                           \n",
       "2011         0         0         0         0         0          0          0   \n",
       "2012         0   19.8145   12.4586   3.77386   2.83841    2.59381    2.59381   \n",
       "2013   1.16378  0.929047  0.845785  0.703182  0.714909  0.0490496  0.0490496   \n",
       "2014 -0.290556 -0.173035  -0.10133  0.139934  0.355367   0.428719   0.428719   \n",
       "2015  0.483784  0.608768  0.504666  0.508383  0.574297   0.430551   0.430551   \n",
       "2016   0.28415  0.278427  0.466698  0.153472   0.23539    0.12187    0.12187   \n",
       "2017  0.270132  0.514383  0.618701  0.602188  0.694812   0.574417   0.574417   \n",
       "2018  0.544024  0.537265  0.453396  0.424537  0.502051   0.482256   0.482256   \n",
       "\n",
       "         August  September    October   November  Decemeber  \n",
       "Year                                                         \n",
       "2011          0          0          0          0          0  \n",
       "2012    2.59381    2.59381    2.59381    2.59381    2.59381  \n",
       "2013  0.0490496  0.0490496  0.0490496  0.0490496  0.0490496  \n",
       "2014   0.428719   0.428719   0.428719   0.428719   0.428719  \n",
       "2015   0.430551   0.430551   0.430551   0.430551   0.430551  \n",
       "2016    0.12187    0.12187    0.12187    0.12187    0.12187  \n",
       "2017   0.574417   0.574417   0.574417   0.574417   0.574417  \n",
       "2018   0.482256   0.482256   0.482256   0.482256   0.482256  "
      ]
     },
     "execution_count": 32,
     "metadata": {},
     "output_type": "execute_result"
    }
   ],
   "source": [
    "aapl_sharpe_matrix"
   ]
  },
  {
   "cell_type": "code",
   "execution_count": 33,
   "metadata": {},
   "outputs": [],
   "source": [
    "mom_PnL_matrix, mom_sharpe_matrix = generate_matrix_output(\"Trading Mom. Daily\", \"Trading Mom. Total\", output_DF)"
   ]
  },
  {
   "cell_type": "code",
   "execution_count": 34,
   "metadata": {},
   "outputs": [
    {
     "data": {
      "text/html": [
       "<div>\n",
       "<style scoped>\n",
       "    .dataframe tbody tr th:only-of-type {\n",
       "        vertical-align: middle;\n",
       "    }\n",
       "\n",
       "    .dataframe tbody tr th {\n",
       "        vertical-align: top;\n",
       "    }\n",
       "\n",
       "    .dataframe thead th {\n",
       "        text-align: right;\n",
       "    }\n",
       "</style>\n",
       "<table border=\"1\" class=\"dataframe\">\n",
       "  <thead>\n",
       "    <tr style=\"text-align: right;\">\n",
       "      <th></th>\n",
       "      <th>January</th>\n",
       "      <th>February</th>\n",
       "      <th>March</th>\n",
       "      <th>April</th>\n",
       "      <th>May</th>\n",
       "      <th>June</th>\n",
       "      <th>July</th>\n",
       "      <th>August</th>\n",
       "      <th>September</th>\n",
       "      <th>October</th>\n",
       "      <th>November</th>\n",
       "      <th>Decemeber</th>\n",
       "    </tr>\n",
       "    <tr>\n",
       "      <th>Year</th>\n",
       "      <th></th>\n",
       "      <th></th>\n",
       "      <th></th>\n",
       "      <th></th>\n",
       "      <th></th>\n",
       "      <th></th>\n",
       "      <th></th>\n",
       "      <th></th>\n",
       "      <th></th>\n",
       "      <th></th>\n",
       "      <th></th>\n",
       "      <th></th>\n",
       "    </tr>\n",
       "  </thead>\n",
       "  <tbody>\n",
       "    <tr>\n",
       "      <th>2011</th>\n",
       "      <td>0</td>\n",
       "      <td>0</td>\n",
       "      <td>0</td>\n",
       "      <td>0</td>\n",
       "      <td>0</td>\n",
       "      <td>0</td>\n",
       "      <td>0</td>\n",
       "      <td>0</td>\n",
       "      <td>0</td>\n",
       "      <td>0</td>\n",
       "      <td>0</td>\n",
       "      <td>511.05</td>\n",
       "    </tr>\n",
       "    <tr>\n",
       "      <th>2012</th>\n",
       "      <td>-461.622</td>\n",
       "      <td>515.807</td>\n",
       "      <td>827.538</td>\n",
       "      <td>72.619</td>\n",
       "      <td>544.269</td>\n",
       "      <td>-342.173</td>\n",
       "      <td>521.439</td>\n",
       "      <td>501.001</td>\n",
       "      <td>-133.032</td>\n",
       "      <td>449.226</td>\n",
       "      <td>531.912</td>\n",
       "      <td>-131.068</td>\n",
       "    </tr>\n",
       "    <tr>\n",
       "      <th>2013</th>\n",
       "      <td>-355.094</td>\n",
       "      <td>-171.3</td>\n",
       "      <td>725.571</td>\n",
       "      <td>701.469</td>\n",
       "      <td>-293.367</td>\n",
       "      <td>609.211</td>\n",
       "      <td>-592.137</td>\n",
       "      <td>-93.638</td>\n",
       "      <td>342.597</td>\n",
       "      <td>-406.507</td>\n",
       "      <td>409.582</td>\n",
       "      <td>84.5614</td>\n",
       "    </tr>\n",
       "    <tr>\n",
       "      <th>2014</th>\n",
       "      <td>-548.284</td>\n",
       "      <td>166.831</td>\n",
       "      <td>452.368</td>\n",
       "      <td>-792.91</td>\n",
       "      <td>4.43868</td>\n",
       "      <td>648.081</td>\n",
       "      <td>803.783</td>\n",
       "      <td>300.226</td>\n",
       "      <td>-827.418</td>\n",
       "      <td>222.959</td>\n",
       "      <td>48.3717</td>\n",
       "      <td>700.383</td>\n",
       "    </tr>\n",
       "    <tr>\n",
       "      <th>2015</th>\n",
       "      <td>279.621</td>\n",
       "      <td>591.97</td>\n",
       "      <td>-351.63</td>\n",
       "      <td>155.446</td>\n",
       "      <td>-278.536</td>\n",
       "      <td>-470.51</td>\n",
       "      <td>1716.98</td>\n",
       "      <td>1930.45</td>\n",
       "      <td>-231.142</td>\n",
       "      <td>-1036.35</td>\n",
       "      <td>27.7187</td>\n",
       "      <td>-504.121</td>\n",
       "    </tr>\n",
       "    <tr>\n",
       "      <th>2016</th>\n",
       "      <td>-993.62</td>\n",
       "      <td>-267.613</td>\n",
       "      <td>37.3946</td>\n",
       "      <td>1083.98</td>\n",
       "      <td>762.631</td>\n",
       "      <td>-653.064</td>\n",
       "      <td>-933.776</td>\n",
       "      <td>-56.572</td>\n",
       "      <td>170.126</td>\n",
       "      <td>170.731</td>\n",
       "      <td>430.386</td>\n",
       "      <td>396.219</td>\n",
       "    </tr>\n",
       "    <tr>\n",
       "      <th>2017</th>\n",
       "      <td>-663.629</td>\n",
       "      <td>-1401</td>\n",
       "      <td>-607.029</td>\n",
       "      <td>-385.439</td>\n",
       "      <td>173.038</td>\n",
       "      <td>316.281</td>\n",
       "      <td>25.1991</td>\n",
       "      <td>603.932</td>\n",
       "      <td>-225.147</td>\n",
       "      <td>868.056</td>\n",
       "      <td>548.323</td>\n",
       "      <td>-500.903</td>\n",
       "    </tr>\n",
       "    <tr>\n",
       "      <th>2018</th>\n",
       "      <td>-755.496</td>\n",
       "      <td>103.412</td>\n",
       "      <td>557.698</td>\n",
       "      <td>523.198</td>\n",
       "      <td>1027.28</td>\n",
       "      <td>270.03</td>\n",
       "      <td>0</td>\n",
       "      <td>0</td>\n",
       "      <td>0</td>\n",
       "      <td>0</td>\n",
       "      <td>0</td>\n",
       "      <td>0</td>\n",
       "    </tr>\n",
       "  </tbody>\n",
       "</table>\n",
       "</div>"
      ],
      "text/plain": [
       "      January February    March    April      May     June     July   August  \\\n",
       "Year                                                                           \n",
       "2011        0        0        0        0        0        0        0        0   \n",
       "2012 -461.622  515.807  827.538   72.619  544.269 -342.173  521.439  501.001   \n",
       "2013 -355.094   -171.3  725.571  701.469 -293.367  609.211 -592.137  -93.638   \n",
       "2014 -548.284  166.831  452.368  -792.91  4.43868  648.081  803.783  300.226   \n",
       "2015  279.621   591.97  -351.63  155.446 -278.536  -470.51  1716.98  1930.45   \n",
       "2016  -993.62 -267.613  37.3946  1083.98  762.631 -653.064 -933.776  -56.572   \n",
       "2017 -663.629    -1401 -607.029 -385.439  173.038  316.281  25.1991  603.932   \n",
       "2018 -755.496  103.412  557.698  523.198  1027.28   270.03        0        0   \n",
       "\n",
       "     September  October November Decemeber  \n",
       "Year                                        \n",
       "2011         0        0        0    511.05  \n",
       "2012  -133.032  449.226  531.912  -131.068  \n",
       "2013   342.597 -406.507  409.582   84.5614  \n",
       "2014  -827.418  222.959  48.3717   700.383  \n",
       "2015  -231.142 -1036.35  27.7187  -504.121  \n",
       "2016   170.126  170.731  430.386   396.219  \n",
       "2017  -225.147  868.056  548.323  -500.903  \n",
       "2018         0        0        0         0  "
      ]
     },
     "execution_count": 34,
     "metadata": {},
     "output_type": "execute_result"
    }
   ],
   "source": [
    "mom_PnL_matrix"
   ]
  },
  {
   "cell_type": "code",
   "execution_count": 35,
   "metadata": {},
   "outputs": [
    {
     "data": {
      "text/html": [
       "<div>\n",
       "<style scoped>\n",
       "    .dataframe tbody tr th:only-of-type {\n",
       "        vertical-align: middle;\n",
       "    }\n",
       "\n",
       "    .dataframe tbody tr th {\n",
       "        vertical-align: top;\n",
       "    }\n",
       "\n",
       "    .dataframe thead th {\n",
       "        text-align: right;\n",
       "    }\n",
       "</style>\n",
       "<table border=\"1\" class=\"dataframe\">\n",
       "  <thead>\n",
       "    <tr style=\"text-align: right;\">\n",
       "      <th></th>\n",
       "      <th>January</th>\n",
       "      <th>February</th>\n",
       "      <th>March</th>\n",
       "      <th>April</th>\n",
       "      <th>May</th>\n",
       "      <th>June</th>\n",
       "      <th>July</th>\n",
       "      <th>August</th>\n",
       "      <th>September</th>\n",
       "      <th>October</th>\n",
       "      <th>November</th>\n",
       "      <th>Decemeber</th>\n",
       "    </tr>\n",
       "    <tr>\n",
       "      <th>Year</th>\n",
       "      <th></th>\n",
       "      <th></th>\n",
       "      <th></th>\n",
       "      <th></th>\n",
       "      <th></th>\n",
       "      <th></th>\n",
       "      <th></th>\n",
       "      <th></th>\n",
       "      <th></th>\n",
       "      <th></th>\n",
       "      <th></th>\n",
       "      <th></th>\n",
       "    </tr>\n",
       "  </thead>\n",
       "  <tbody>\n",
       "    <tr>\n",
       "      <th>2011</th>\n",
       "      <td>0</td>\n",
       "      <td>0</td>\n",
       "      <td>0</td>\n",
       "      <td>0</td>\n",
       "      <td>0</td>\n",
       "      <td>0</td>\n",
       "      <td>0</td>\n",
       "      <td>0</td>\n",
       "      <td>0</td>\n",
       "      <td>0</td>\n",
       "      <td>0</td>\n",
       "      <td>0</td>\n",
       "    </tr>\n",
       "    <tr>\n",
       "      <th>2012</th>\n",
       "      <td>0</td>\n",
       "      <td>-0.0287976</td>\n",
       "      <td>1.27988</td>\n",
       "      <td>1.22832</td>\n",
       "      <td>1.74788</td>\n",
       "      <td>1.05063</td>\n",
       "      <td>1.05063</td>\n",
       "      <td>1.05063</td>\n",
       "      <td>1.05063</td>\n",
       "      <td>1.05063</td>\n",
       "      <td>1.05063</td>\n",
       "      <td>1.05063</td>\n",
       "    </tr>\n",
       "    <tr>\n",
       "      <th>2013</th>\n",
       "      <td>0.608051</td>\n",
       "      <td>0.411796</td>\n",
       "      <td>0.820362</td>\n",
       "      <td>1.13581</td>\n",
       "      <td>0.877101</td>\n",
       "      <td>1.10561</td>\n",
       "      <td>1.10561</td>\n",
       "      <td>1.10561</td>\n",
       "      <td>1.10561</td>\n",
       "      <td>1.10561</td>\n",
       "      <td>1.10561</td>\n",
       "      <td>1.10561</td>\n",
       "    </tr>\n",
       "    <tr>\n",
       "      <th>2014</th>\n",
       "      <td>0.728995</td>\n",
       "      <td>0.765502</td>\n",
       "      <td>0.90753</td>\n",
       "      <td>0.486959</td>\n",
       "      <td>0.464427</td>\n",
       "      <td>0.647955</td>\n",
       "      <td>0.647955</td>\n",
       "      <td>0.647955</td>\n",
       "      <td>0.647955</td>\n",
       "      <td>0.647955</td>\n",
       "      <td>0.647955</td>\n",
       "      <td>0.647955</td>\n",
       "    </tr>\n",
       "    <tr>\n",
       "      <th>2015</th>\n",
       "      <td>0.703858</td>\n",
       "      <td>0.832011</td>\n",
       "      <td>0.695411</td>\n",
       "      <td>0.71215</td>\n",
       "      <td>0.609591</td>\n",
       "      <td>0.456926</td>\n",
       "      <td>0.456926</td>\n",
       "      <td>0.456926</td>\n",
       "      <td>0.456926</td>\n",
       "      <td>0.456926</td>\n",
       "      <td>0.456926</td>\n",
       "      <td>0.456926</td>\n",
       "    </tr>\n",
       "    <tr>\n",
       "      <th>2016</th>\n",
       "      <td>0.195207</td>\n",
       "      <td>0.125379</td>\n",
       "      <td>0.124206</td>\n",
       "      <td>0.31317</td>\n",
       "      <td>0.428966</td>\n",
       "      <td>0.293501</td>\n",
       "      <td>0.293501</td>\n",
       "      <td>0.293501</td>\n",
       "      <td>0.293501</td>\n",
       "      <td>0.293501</td>\n",
       "      <td>0.293501</td>\n",
       "      <td>0.293501</td>\n",
       "    </tr>\n",
       "    <tr>\n",
       "      <th>2017</th>\n",
       "      <td>0.163045</td>\n",
       "      <td>-0.0944256</td>\n",
       "      <td>-0.199992</td>\n",
       "      <td>-0.26689</td>\n",
       "      <td>-0.238827</td>\n",
       "      <td>-0.188729</td>\n",
       "      <td>-0.188729</td>\n",
       "      <td>-0.188729</td>\n",
       "      <td>-0.188729</td>\n",
       "      <td>-0.188729</td>\n",
       "      <td>-0.188729</td>\n",
       "      <td>-0.188729</td>\n",
       "    </tr>\n",
       "    <tr>\n",
       "      <th>2018</th>\n",
       "      <td>-0.300029</td>\n",
       "      <td>-0.28544</td>\n",
       "      <td>-0.206377</td>\n",
       "      <td>-0.138017</td>\n",
       "      <td>-0.0149886</td>\n",
       "      <td>0.0122546</td>\n",
       "      <td>0.0122546</td>\n",
       "      <td>0.0122546</td>\n",
       "      <td>0.0122546</td>\n",
       "      <td>0.0122546</td>\n",
       "      <td>0.0122546</td>\n",
       "      <td>0.0122546</td>\n",
       "    </tr>\n",
       "  </tbody>\n",
       "</table>\n",
       "</div>"
      ],
      "text/plain": [
       "       January   February     March     April        May       June  \\\n",
       "Year                                                                  \n",
       "2011         0          0         0         0          0          0   \n",
       "2012         0 -0.0287976   1.27988   1.22832    1.74788    1.05063   \n",
       "2013  0.608051   0.411796  0.820362   1.13581   0.877101    1.10561   \n",
       "2014  0.728995   0.765502   0.90753  0.486959   0.464427   0.647955   \n",
       "2015  0.703858   0.832011  0.695411   0.71215   0.609591   0.456926   \n",
       "2016  0.195207   0.125379  0.124206   0.31317   0.428966   0.293501   \n",
       "2017  0.163045 -0.0944256 -0.199992  -0.26689  -0.238827  -0.188729   \n",
       "2018 -0.300029   -0.28544 -0.206377 -0.138017 -0.0149886  0.0122546   \n",
       "\n",
       "           July     August  September    October   November  Decemeber  \n",
       "Year                                                                    \n",
       "2011          0          0          0          0          0          0  \n",
       "2012    1.05063    1.05063    1.05063    1.05063    1.05063    1.05063  \n",
       "2013    1.10561    1.10561    1.10561    1.10561    1.10561    1.10561  \n",
       "2014   0.647955   0.647955   0.647955   0.647955   0.647955   0.647955  \n",
       "2015   0.456926   0.456926   0.456926   0.456926   0.456926   0.456926  \n",
       "2016   0.293501   0.293501   0.293501   0.293501   0.293501   0.293501  \n",
       "2017  -0.188729  -0.188729  -0.188729  -0.188729  -0.188729  -0.188729  \n",
       "2018  0.0122546  0.0122546  0.0122546  0.0122546  0.0122546  0.0122546  "
      ]
     },
     "execution_count": 35,
     "metadata": {},
     "output_type": "execute_result"
    }
   ],
   "source": [
    "mom_sharpe_matrix"
   ]
  },
  {
   "cell_type": "markdown",
   "metadata": {},
   "source": [
    "### Summary"
   ]
  },
  {
   "cell_type": "markdown",
   "metadata": {},
   "source": [
    "My approach was to try to find a signal in the days preceding 'tomorrow'. My intuition was that only a relatively small input window of days (less than 10) should be used, since the goal was to create a daily trading strategy. If large number of days was used as the input window I felt I would be searching for signals that occurred on timescales of 10-20 days, and there would be fewer of these events for the model to learn from. Therefore first I wanted to see if there was a signal occuring on the timescales of 2-5 days. However if I was to extend the model to include date data this opinion would change, a much large window of about 30-60 days would be my starting point. I would be very interested to go after subjective trading effects, for example Monday opening or Friday close effects.\n",
    "\n",
    "I applied a neural net model even though 3000 days of data is not really enough data for that type of machine learning. This was mainly for selfish reasons - I wanted to try do some timeseries forecasting with LSTMs.\n",
    "\n",
    "Although not documented, I explored using different numbers of LSTM layers, different activations and different scalings but all configurations gave a similar result. The LSTM model predicted a small positive increase with a much lower variance than that of AAPL, which was useless since this is the same as a buy and hold strategy. \n",
    "\n",
    "I would like to explore splitting the training data into 4 categories: (large increase, small increase, small decrease, large decrease) and using an LSTM and random forest (two separate approaches) to predict between 2 possible outputs: (increase, decrease). I think this strategy would work better since I feel using continuous numbers gives the model too many degrees of freedom to choose from. I can also see from the loss decrease, as the LSTM model is training, that each iteration there is not a lot of optimization happening, which means neural net isn't appropriate, unfortunately I ran out of time to explore further becuase I also wanted to code up the performance metrics."
   ]
  },
  {
   "cell_type": "code",
   "execution_count": null,
   "metadata": {},
   "outputs": [],
   "source": []
  }
 ],
 "metadata": {
  "kernelspec": {
   "display_name": "venv",
   "language": "python",
   "name": "venv"
  },
  "language_info": {
   "codemirror_mode": {
    "name": "ipython",
    "version": 3
   },
   "file_extension": ".py",
   "mimetype": "text/x-python",
   "name": "python",
   "nbconvert_exporter": "python",
   "pygments_lexer": "ipython3",
   "version": "3.7.7"
  }
 },
 "nbformat": 4,
 "nbformat_minor": 4
}
